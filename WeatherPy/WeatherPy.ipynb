{
 "cells": [
  {
   "cell_type": "markdown",
   "metadata": {},
   "source": [
    "# WeatherPy"
   ]
  },
  {
   "cell_type": "code",
   "execution_count": 1,
   "metadata": {},
   "outputs": [],
   "source": [
    "# Dependencies and Setup\n",
    "import matplotlib.pyplot as plt\n",
    "import pandas as pd\n",
    "import numpy as np\n",
    "import requests\n",
    "import time\n",
    "from pprint import pprint\n",
    "\n",
    "# Import API key\n",
    "from api_keys import api_key\n",
    "\n",
    "# Incorporated citipy to determine city based on latitude and longitude\n",
    "from citipy import citipy\n",
    "\n",
    "# Output File (CSV)\n",
    "output_data_file = \"output_data/cities.csv\"\n",
    "\n",
    "# Range of latitudes and longitudes\n",
    "lat_range = (-90, 90)\n",
    "lng_range = (-180, 180)\n"
   ]
  },
  {
   "cell_type": "markdown",
   "metadata": {},
   "source": [
    "## Generate cities list"
   ]
  },
  {
   "cell_type": "code",
   "execution_count": 2,
   "metadata": {},
   "outputs": [
    {
     "data": {
      "text/plain": [
       "113"
      ]
     },
     "execution_count": 2,
     "metadata": {},
     "output_type": "execute_result"
    }
   ],
   "source": [
    "# List for holding lat_lngs and cities\n",
    "lat_lngs = []\n",
    "cities = []\n",
    "\n",
    "# Create a set of random lat and lng combinations\n",
    "lats = np.random.uniform(low=-90.000, high=90.000, size=150)\n",
    "lngs = np.random.uniform(low=-180.000, high=180.000, size=150)\n",
    "lat_lngs = zip(lats, lngs)\n",
    "\n",
    "# Identify nearest city for each lat, lng combination\n",
    "for lat_lng in lat_lngs:\n",
    "    city = citipy.nearest_city(lat_lng[0], lat_lng[1]).city_name\n",
    "    \n",
    "    # If the city is unique, then add it to a our cities list\n",
    "    if city not in cities:\n",
    "        cities.append(city)\n",
    "\n",
    "# Print the city count to confirm sufficient count\n",
    "len(cities)"
   ]
  },
  {
   "cell_type": "markdown",
   "metadata": {},
   "source": [
    "### Perform API calls\n",
    "* Perform a weather check on each city using a series of successive API calls.\n",
    "* Include a print log of each city as it'sbeing processed (with the city number and city name)."
   ]
  },
  {
   "cell_type": "code",
   "execution_count": 22,
   "metadata": {},
   "outputs": [
    {
     "name": "stdout",
     "output_type": "stream",
     "text": [
      "Started\n",
      "Processing Record 1 of Set 1 | bolungarvik\n",
      "City not found. Skipping...\n",
      "Processing Record 2 of Set 1 | kahului\n",
      "Processing Record 3 of Set 1 | turayf\n",
      "Processing Record 4 of Set 1 | vaitupu\n",
      "City not found. Skipping...\n",
      "Processing Record 5 of Set 1 | porbandar\n",
      "Processing Record 6 of Set 1 | padang\n",
      "Processing Record 7 of Set 1 | hermanus\n",
      "Processing Record 8 of Set 1 | mosquera\n",
      "Processing Record 9 of Set 1 | hays\n",
      "Processing Record 10 of Set 1 | san carlos del zulia\n",
      "Processing Record 11 of Set 1 | punta arenas\n",
      "Processing Record 12 of Set 1 | rikitea\n",
      "Processing Record 13 of Set 1 | avarua\n",
      "Processing Record 14 of Set 1 | qaanaaq\n",
      "Processing Record 15 of Set 1 | olinda\n",
      "Processing Record 16 of Set 1 | jamestown\n",
      "Processing Record 17 of Set 1 | mataura\n",
      "Processing Record 18 of Set 1 | chapais\n",
      "Processing Record 19 of Set 1 | eyl\n",
      "Processing Record 20 of Set 1 | barentsburg\n",
      "City not found. Skipping...\n",
      "Processing Record 21 of Set 1 | lolua\n",
      "City not found. Skipping...\n",
      "Processing Record 22 of Set 1 | ribeira grande\n",
      "Processing Record 23 of Set 1 | cabo san lucas\n",
      "Processing Record 24 of Set 1 | port elizabeth\n",
      "Processing Record 25 of Set 1 | dodola\n",
      "Processing Record 26 of Set 1 | port alfred\n",
      "Processing Record 27 of Set 1 | dunedin\n",
      "Processing Record 28 of Set 1 | corning\n",
      "Processing Record 29 of Set 1 | sao sebastiao\n",
      "Processing Record 30 of Set 1 | hamilton\n",
      "Processing Record 31 of Set 1 | kaitangata\n",
      "Processing Record 32 of Set 1 | kapaa\n",
      "Processing Record 33 of Set 1 | bathsheba\n",
      "Processing Record 34 of Set 1 | poyarkovo\n",
      "Processing Record 35 of Set 1 | walvis bay\n",
      "Processing Record 36 of Set 1 | nelson bay\n",
      "Processing Record 37 of Set 1 | poum\n",
      "Processing Record 38 of Set 1 | busselton\n",
      "Processing Record 39 of Set 1 | albany\n",
      "Processing Record 40 of Set 1 | husavik\n",
      "Processing Record 41 of Set 1 | sur\n",
      "Processing Record 42 of Set 1 | mar del plata\n",
      "Processing Record 43 of Set 1 | nikolskoye\n",
      "Processing Record 44 of Set 1 | saleaula\n",
      "City not found. Skipping...\n",
      "Processing Record 45 of Set 1 | ixtapa\n",
      "Processing Record 46 of Set 1 | ushuaia\n",
      "Processing Record 47 of Set 1 | high level\n",
      "Processing Record 48 of Set 1 | jining\n",
      "Processing Record 49 of Set 1 | vila franca do campo\n",
      "Processing Record 50 of Set 1 | faanui\n",
      "Processing Record 1 of Set 2 | progreso\n",
      "Processing Record 2 of Set 2 | havelock\n",
      "Processing Record 3 of Set 2 | new norfolk\n",
      "Processing Record 4 of Set 2 | sentyabrskiy\n",
      "City not found. Skipping...\n",
      "Processing Record 5 of Set 2 | hithadhoo\n",
      "Processing Record 6 of Set 2 | carbondale\n",
      "Processing Record 7 of Set 2 | georgetown\n",
      "Processing Record 8 of Set 2 | tuy hoa\n",
      "Processing Record 9 of Set 2 | bambous virieux\n",
      "Processing Record 10 of Set 2 | tezu\n",
      "Processing Record 11 of Set 2 | atuona\n",
      "Processing Record 12 of Set 2 | pevek\n",
      "Processing Record 13 of Set 2 | puerto ayora\n",
      "Processing Record 14 of Set 2 | saint-philippe\n",
      "Processing Record 15 of Set 2 | hilo\n",
      "Processing Record 16 of Set 2 | yellowknife\n",
      "Processing Record 17 of Set 2 | pangody\n",
      "Processing Record 18 of Set 2 | mahebourg\n",
      "Processing Record 19 of Set 2 | xining\n",
      "Processing Record 20 of Set 2 | cherskiy\n",
      "Processing Record 21 of Set 2 | sungaipenuh\n",
      "Processing Record 22 of Set 2 | edd\n",
      "Processing Record 23 of Set 2 | dingle\n",
      "Processing Record 24 of Set 2 | ambodifototra\n",
      "City not found. Skipping...\n",
      "Processing Record 25 of Set 2 | karlskrona\n",
      "Processing Record 26 of Set 2 | necochea\n",
      "Processing Record 27 of Set 2 | sorland\n",
      "Processing Record 28 of Set 2 | shahreza\n",
      "Processing Record 29 of Set 2 | mindelo\n",
      "Processing Record 30 of Set 2 | vardo\n",
      "Processing Record 31 of Set 2 | hobart\n",
      "Processing Record 32 of Set 2 | luancheng\n",
      "Processing Record 33 of Set 2 | batagay-alyta\n",
      "Processing Record 34 of Set 2 | mount gambier\n",
      "Processing Record 35 of Set 2 | geraldton\n",
      "Processing Record 36 of Set 2 | khairagarh\n",
      "Processing Record 37 of Set 2 | khatanga\n",
      "Processing Record 38 of Set 2 | vestmannaeyjar\n",
      "Processing Record 39 of Set 2 | ostrovnoy\n",
      "Processing Record 40 of Set 2 | yuci\n",
      "Processing Record 41 of Set 2 | kharar\n",
      "Processing Record 42 of Set 2 | cape town\n",
      "Processing Record 43 of Set 2 | isangel\n",
      "Processing Record 44 of Set 2 | constitucion\n",
      "Processing Record 45 of Set 2 | carnarvon\n",
      "Processing Record 46 of Set 2 | bluff\n",
      "Processing Record 47 of Set 2 | yulara\n",
      "Processing Record 48 of Set 2 | sitka\n",
      "Processing Record 49 of Set 2 | severo-kurilsk\n",
      "Processing Record 50 of Set 2 | leningradskiy\n",
      "Processing Record 1 of Set 3 | san rafael\n",
      "Processing Record 2 of Set 3 | sao joao da barra\n",
      "Processing Record 3 of Set 3 | mabaruma\n",
      "Processing Record 4 of Set 3 | ketchikan\n",
      "Processing Record 5 of Set 3 | agen\n",
      "Processing Record 6 of Set 3 | vaini\n",
      "Processing Record 7 of Set 3 | richards bay\n",
      "Processing Record 8 of Set 3 | suffolk\n",
      "Processing Record 9 of Set 3 | kachiry\n",
      "Processing Record 10 of Set 3 | saldanha\n",
      "Processing Record 11 of Set 3 | puerto baquerizo moreno\n",
      "Processing Record 12 of Set 3 | bethel\n",
      "Processing Record 13 of Set 3 | illoqqortoormiut\n",
      "City not found. Skipping...\n",
      "Completed\n"
     ]
    }
   ],
   "source": [
    "# Create a base url\n",
    "base_url = \"http://api.openweathermap.org/data/2.5/weather?units=imperial&appid=\" + api_key\n",
    "\n",
    "# Counters\n",
    "city_counter = 1\n",
    "set_counter = 1\n",
    "\n",
    "# Create the lists to hold relative data\n",
    "cloudiness = []\n",
    "country = []\n",
    "date = []\n",
    "humidity = []\n",
    "lat = []\n",
    "lng = []\n",
    "max_temp = []\n",
    "wind_speed = []\n",
    "\n",
    "print(\"Started\")\n",
    "\n",
    "# Create a query url for each city in the cities list to get json response\n",
    "for i, city in enumerate(cities):\n",
    "    \n",
    "    # Group cities as sets of 50s\n",
    "    if (i % 50 == 0 and i >= 50):\n",
    "        set_counter += 1\n",
    "        city_counter = 1\n",
    "         \n",
    "    # Create API url for each city\n",
    "    query_url = base_url + \"&q=\" + city\n",
    "    \n",
    "    # print(f\"url:\", query_url)\n",
    "    \n",
    "    # Print the results \n",
    "    print(\"Processing Record %s of Set %s | %s\" % (city_counter, set_counter, city))\n",
    "    \n",
    "    # Make API request for each city\n",
    "    try:\n",
    "        # Increase city counter\n",
    "        city_counter += 1\n",
    "    \n",
    "        # Perform a request for data on each city\n",
    "        response = requests.get(query_url).json()\n",
    "        \n",
    "        # print(f\"response:\", response)\n",
    "        \n",
    "        cloudiness.append(response[\"clouds\"][\"all\"])\n",
    "        country.append(response[\"sys\"][\"country\"])\n",
    "        date.append(response[\"dt\"])\n",
    "        humidity.append(response[\"main\"][\"humidity\"])\n",
    "        lat.append(response[\"coord\"][\"lat\"])\n",
    "        lng.append(response[\"coord\"][\"lon\"])\n",
    "        max_temp.append(response[\"main\"][\"temp_max\"])\n",
    "        wind_speed.append(response[\"wind\"][\"speed\"])\n",
    "        \n",
    "        weather_data = {\n",
    "            \"City\": cities,\n",
    "            \"Cloudiness\": cloudiness,\n",
    "            \"Country\": country,\n",
    "            \"Date\": date,\n",
    "            \"Humidity\": humidity,\n",
    "            \"Lat\": lat,\n",
    "            \"Lng\": lng,\n",
    "            \"Max Temp\": max_temp,\n",
    "            \"Wind Speed\": wind_speed    \n",
    "        }\n",
    "    \n",
    "    except:\n",
    "        \n",
    "        print(\"City not found. Skipping...\")\n",
    "        pass\n",
    "        \n",
    "print(\"Completed\")"
   ]
  },
  {
   "cell_type": "code",
   "execution_count": 5,
   "metadata": {},
   "outputs": [
    {
     "name": "stdout",
     "output_type": "stream",
     "text": [
      "{'base': 'stations',\n",
      " 'clouds': {'all': 90},\n",
      " 'cod': 200,\n",
      " 'coord': {'lat': 43.8, 'lon': -91.24},\n",
      " 'dt': 1569619107,\n",
      " 'id': 5258957,\n",
      " 'main': {'humidity': 100,\n",
      "          'pressure': 1006,\n",
      "          'temp': 66.42,\n",
      "          'temp_max': 71.6,\n",
      "          'temp_min': 62.01},\n",
      " 'name': 'La Crosse',\n",
      " 'sys': {'country': 'US',\n",
      "         'id': 6319,\n",
      "         'message': 0.0065,\n",
      "         'sunrise': 1569585454,\n",
      "         'sunset': 1569628462,\n",
      "         'type': 1},\n",
      " 'timezone': -18000,\n",
      " 'visibility': 16093,\n",
      " 'weather': [{'description': 'overcast clouds',\n",
      "              'icon': '04d',\n",
      "              'id': 804,\n",
      "              'main': 'Clouds'}],\n",
      " 'wind': {'deg': 250, 'speed': 4.7}}\n"
     ]
    }
   ],
   "source": [
    "\n",
    "\n",
    "\n",
    "    \n",
    "    \n",
    "    \n"
   ]
  },
  {
   "cell_type": "markdown",
   "metadata": {},
   "source": [
    "### Convert Raw Data to DataFrame\n",
    "* Export the city data into a .csv.\n",
    "* Display the DataFrame"
   ]
  },
  {
   "cell_type": "code",
   "execution_count": 24,
   "metadata": {},
   "outputs": [
    {
     "data": {
      "text/plain": [
       "113"
      ]
     },
     "execution_count": 24,
     "metadata": {},
     "output_type": "execute_result"
    }
   ],
   "source": [
    "len(cities)\n",
    "#len(lat)"
   ]
  },
  {
   "cell_type": "code",
   "execution_count": 25,
   "metadata": {},
   "outputs": [
    {
     "ename": "ValueError",
     "evalue": "arrays must all be same length",
     "output_type": "error",
     "traceback": [
      "\u001b[0;31m---------------------------------------------------------------------------\u001b[0m",
      "\u001b[0;31mValueError\u001b[0m                                Traceback (most recent call last)",
      "\u001b[0;32m<ipython-input-25-da548cba1ce3>\u001b[0m in \u001b[0;36m<module>\u001b[0;34m\u001b[0m\n\u001b[1;32m     15\u001b[0m \u001b[0;34m\u001b[0m\u001b[0m\n\u001b[1;32m     16\u001b[0m \u001b[0;31m# Create the data frame\u001b[0m\u001b[0;34m\u001b[0m\u001b[0;34m\u001b[0m\u001b[0;34m\u001b[0m\u001b[0m\n\u001b[0;32m---> 17\u001b[0;31m \u001b[0mweather_df\u001b[0m \u001b[0;34m=\u001b[0m \u001b[0mpd\u001b[0m\u001b[0;34m.\u001b[0m\u001b[0mDataFrame\u001b[0m\u001b[0;34m(\u001b[0m\u001b[0mweather_data\u001b[0m\u001b[0;34m)\u001b[0m\u001b[0;34m\u001b[0m\u001b[0;34m\u001b[0m\u001b[0m\n\u001b[0m\u001b[1;32m     18\u001b[0m \u001b[0mweather_df\u001b[0m\u001b[0;34m.\u001b[0m\u001b[0mhead\u001b[0m\u001b[0;34m(\u001b[0m\u001b[0;34m)\u001b[0m\u001b[0;34m\u001b[0m\u001b[0;34m\u001b[0m\u001b[0m\n",
      "\u001b[0;32m~/anaconda3/envs/pythondata/lib/python3.7/site-packages/pandas/core/frame.py\u001b[0m in \u001b[0;36m__init__\u001b[0;34m(self, data, index, columns, dtype, copy)\u001b[0m\n\u001b[1;32m    409\u001b[0m             )\n\u001b[1;32m    410\u001b[0m         \u001b[0;32melif\u001b[0m \u001b[0misinstance\u001b[0m\u001b[0;34m(\u001b[0m\u001b[0mdata\u001b[0m\u001b[0;34m,\u001b[0m \u001b[0mdict\u001b[0m\u001b[0;34m)\u001b[0m\u001b[0;34m:\u001b[0m\u001b[0;34m\u001b[0m\u001b[0;34m\u001b[0m\u001b[0m\n\u001b[0;32m--> 411\u001b[0;31m             \u001b[0mmgr\u001b[0m \u001b[0;34m=\u001b[0m \u001b[0minit_dict\u001b[0m\u001b[0;34m(\u001b[0m\u001b[0mdata\u001b[0m\u001b[0;34m,\u001b[0m \u001b[0mindex\u001b[0m\u001b[0;34m,\u001b[0m \u001b[0mcolumns\u001b[0m\u001b[0;34m,\u001b[0m \u001b[0mdtype\u001b[0m\u001b[0;34m=\u001b[0m\u001b[0mdtype\u001b[0m\u001b[0;34m)\u001b[0m\u001b[0;34m\u001b[0m\u001b[0;34m\u001b[0m\u001b[0m\n\u001b[0m\u001b[1;32m    412\u001b[0m         \u001b[0;32melif\u001b[0m \u001b[0misinstance\u001b[0m\u001b[0;34m(\u001b[0m\u001b[0mdata\u001b[0m\u001b[0;34m,\u001b[0m \u001b[0mma\u001b[0m\u001b[0;34m.\u001b[0m\u001b[0mMaskedArray\u001b[0m\u001b[0;34m)\u001b[0m\u001b[0;34m:\u001b[0m\u001b[0;34m\u001b[0m\u001b[0;34m\u001b[0m\u001b[0m\n\u001b[1;32m    413\u001b[0m             \u001b[0;32mimport\u001b[0m \u001b[0mnumpy\u001b[0m\u001b[0;34m.\u001b[0m\u001b[0mma\u001b[0m\u001b[0;34m.\u001b[0m\u001b[0mmrecords\u001b[0m \u001b[0;32mas\u001b[0m \u001b[0mmrecords\u001b[0m\u001b[0;34m\u001b[0m\u001b[0;34m\u001b[0m\u001b[0m\n",
      "\u001b[0;32m~/anaconda3/envs/pythondata/lib/python3.7/site-packages/pandas/core/internals/construction.py\u001b[0m in \u001b[0;36minit_dict\u001b[0;34m(data, index, columns, dtype)\u001b[0m\n\u001b[1;32m    255\u001b[0m             \u001b[0marr\u001b[0m \u001b[0;32mif\u001b[0m \u001b[0;32mnot\u001b[0m \u001b[0mis_datetime64tz_dtype\u001b[0m\u001b[0;34m(\u001b[0m\u001b[0marr\u001b[0m\u001b[0;34m)\u001b[0m \u001b[0;32melse\u001b[0m \u001b[0marr\u001b[0m\u001b[0;34m.\u001b[0m\u001b[0mcopy\u001b[0m\u001b[0;34m(\u001b[0m\u001b[0;34m)\u001b[0m \u001b[0;32mfor\u001b[0m \u001b[0marr\u001b[0m \u001b[0;32min\u001b[0m \u001b[0marrays\u001b[0m\u001b[0;34m\u001b[0m\u001b[0;34m\u001b[0m\u001b[0m\n\u001b[1;32m    256\u001b[0m         ]\n\u001b[0;32m--> 257\u001b[0;31m     \u001b[0;32mreturn\u001b[0m \u001b[0marrays_to_mgr\u001b[0m\u001b[0;34m(\u001b[0m\u001b[0marrays\u001b[0m\u001b[0;34m,\u001b[0m \u001b[0mdata_names\u001b[0m\u001b[0;34m,\u001b[0m \u001b[0mindex\u001b[0m\u001b[0;34m,\u001b[0m \u001b[0mcolumns\u001b[0m\u001b[0;34m,\u001b[0m \u001b[0mdtype\u001b[0m\u001b[0;34m=\u001b[0m\u001b[0mdtype\u001b[0m\u001b[0;34m)\u001b[0m\u001b[0;34m\u001b[0m\u001b[0;34m\u001b[0m\u001b[0m\n\u001b[0m\u001b[1;32m    258\u001b[0m \u001b[0;34m\u001b[0m\u001b[0m\n\u001b[1;32m    259\u001b[0m \u001b[0;34m\u001b[0m\u001b[0m\n",
      "\u001b[0;32m~/anaconda3/envs/pythondata/lib/python3.7/site-packages/pandas/core/internals/construction.py\u001b[0m in \u001b[0;36marrays_to_mgr\u001b[0;34m(arrays, arr_names, index, columns, dtype)\u001b[0m\n\u001b[1;32m     75\u001b[0m     \u001b[0;31m# figure out the index, if necessary\u001b[0m\u001b[0;34m\u001b[0m\u001b[0;34m\u001b[0m\u001b[0;34m\u001b[0m\u001b[0m\n\u001b[1;32m     76\u001b[0m     \u001b[0;32mif\u001b[0m \u001b[0mindex\u001b[0m \u001b[0;32mis\u001b[0m \u001b[0;32mNone\u001b[0m\u001b[0;34m:\u001b[0m\u001b[0;34m\u001b[0m\u001b[0;34m\u001b[0m\u001b[0m\n\u001b[0;32m---> 77\u001b[0;31m         \u001b[0mindex\u001b[0m \u001b[0;34m=\u001b[0m \u001b[0mextract_index\u001b[0m\u001b[0;34m(\u001b[0m\u001b[0marrays\u001b[0m\u001b[0;34m)\u001b[0m\u001b[0;34m\u001b[0m\u001b[0;34m\u001b[0m\u001b[0m\n\u001b[0m\u001b[1;32m     78\u001b[0m     \u001b[0;32melse\u001b[0m\u001b[0;34m:\u001b[0m\u001b[0;34m\u001b[0m\u001b[0;34m\u001b[0m\u001b[0m\n\u001b[1;32m     79\u001b[0m         \u001b[0mindex\u001b[0m \u001b[0;34m=\u001b[0m \u001b[0mensure_index\u001b[0m\u001b[0;34m(\u001b[0m\u001b[0mindex\u001b[0m\u001b[0;34m)\u001b[0m\u001b[0;34m\u001b[0m\u001b[0;34m\u001b[0m\u001b[0m\n",
      "\u001b[0;32m~/anaconda3/envs/pythondata/lib/python3.7/site-packages/pandas/core/internals/construction.py\u001b[0m in \u001b[0;36mextract_index\u001b[0;34m(data)\u001b[0m\n\u001b[1;32m    366\u001b[0m             \u001b[0mlengths\u001b[0m \u001b[0;34m=\u001b[0m \u001b[0mlist\u001b[0m\u001b[0;34m(\u001b[0m\u001b[0mset\u001b[0m\u001b[0;34m(\u001b[0m\u001b[0mraw_lengths\u001b[0m\u001b[0;34m)\u001b[0m\u001b[0;34m)\u001b[0m\u001b[0;34m\u001b[0m\u001b[0;34m\u001b[0m\u001b[0m\n\u001b[1;32m    367\u001b[0m             \u001b[0;32mif\u001b[0m \u001b[0mlen\u001b[0m\u001b[0;34m(\u001b[0m\u001b[0mlengths\u001b[0m\u001b[0;34m)\u001b[0m \u001b[0;34m>\u001b[0m \u001b[0;36m1\u001b[0m\u001b[0;34m:\u001b[0m\u001b[0;34m\u001b[0m\u001b[0;34m\u001b[0m\u001b[0m\n\u001b[0;32m--> 368\u001b[0;31m                 \u001b[0;32mraise\u001b[0m \u001b[0mValueError\u001b[0m\u001b[0;34m(\u001b[0m\u001b[0;34m\"arrays must all be same length\"\u001b[0m\u001b[0;34m)\u001b[0m\u001b[0;34m\u001b[0m\u001b[0;34m\u001b[0m\u001b[0m\n\u001b[0m\u001b[1;32m    369\u001b[0m \u001b[0;34m\u001b[0m\u001b[0m\n\u001b[1;32m    370\u001b[0m             \u001b[0;32mif\u001b[0m \u001b[0mhave_dicts\u001b[0m\u001b[0;34m:\u001b[0m\u001b[0;34m\u001b[0m\u001b[0;34m\u001b[0m\u001b[0m\n",
      "\u001b[0;31mValueError\u001b[0m: arrays must all be same length"
     ]
    }
   ],
   "source": [
    "# Create the dictionary to keep data \n",
    "# weather_data = {\n",
    "#     \"City\": cities,\n",
    "#     \"Cloudiness\": cloudiness,\n",
    "#     \"Country\": country,\n",
    "#     \"Date\": date,\n",
    "#     \"Humidity\": humidity,\n",
    "#     \"Lat\": lat,\n",
    "#     \"Lng\": lng,\n",
    "#     \"Max Temp\": max_temp,\n",
    "#     \"Wind Speed\": wind_speed    \n",
    "# }\n",
    "\n",
    "#weather_df.count()\n",
    "\n",
    "# Create the data frame\n",
    "weather_df = pd.DataFrame(weather_data)\n",
    "weather_df.head()"
   ]
  },
  {
   "cell_type": "code",
   "execution_count": 9,
   "metadata": {},
   "outputs": [
    {
     "ename": "NameError",
     "evalue": "name 'weather_df' is not defined",
     "output_type": "error",
     "traceback": [
      "\u001b[0;31m---------------------------------------------------------------------------\u001b[0m",
      "\u001b[0;31mNameError\u001b[0m                                 Traceback (most recent call last)",
      "\u001b[0;32m<ipython-input-9-4bee63d21cee>\u001b[0m in \u001b[0;36m<module>\u001b[0;34m\u001b[0m\n\u001b[0;32m----> 1\u001b[0;31m \u001b[0mweather_df\u001b[0m\u001b[0;34m.\u001b[0m\u001b[0mcount\u001b[0m\u001b[0;34m(\u001b[0m\u001b[0;34m)\u001b[0m\u001b[0;34m\u001b[0m\u001b[0;34m\u001b[0m\u001b[0m\n\u001b[0m",
      "\u001b[0;31mNameError\u001b[0m: name 'weather_df' is not defined"
     ]
    }
   ],
   "source": [
    "weather_df.count()"
   ]
  },
  {
   "cell_type": "markdown",
   "metadata": {},
   "source": [
    "### Plotting the Data\n",
    "* Use proper labeling of the plots using plot titles (including date of analysis) and axes labels.\n",
    "* Save the plotted figures as .pngs."
   ]
  },
  {
   "cell_type": "markdown",
   "metadata": {},
   "source": [
    "#### Latitude vs. Temperature Plot"
   ]
  },
  {
   "cell_type": "code",
   "execution_count": null,
   "metadata": {},
   "outputs": [],
   "source": []
  },
  {
   "cell_type": "markdown",
   "metadata": {},
   "source": [
    "#### Latitude vs. Humidity Plot"
   ]
  },
  {
   "cell_type": "code",
   "execution_count": null,
   "metadata": {},
   "outputs": [],
   "source": []
  },
  {
   "cell_type": "markdown",
   "metadata": {},
   "source": [
    "#### Latitude vs. Cloudiness Plot"
   ]
  },
  {
   "cell_type": "code",
   "execution_count": null,
   "metadata": {},
   "outputs": [],
   "source": []
  },
  {
   "cell_type": "markdown",
   "metadata": {},
   "source": [
    "#### Latitude vs. Wind Speed Plot"
   ]
  },
  {
   "cell_type": "code",
   "execution_count": null,
   "metadata": {},
   "outputs": [],
   "source": []
  }
 ],
 "metadata": {
  "kernelspec": {
   "display_name": "Python [conda env:PythonData]",
   "language": "python",
   "name": "conda-env-PythonData-py"
  },
  "language_info": {
   "codemirror_mode": {
    "name": "ipython",
    "version": 3
   },
   "file_extension": ".py",
   "mimetype": "text/x-python",
   "name": "python",
   "nbconvert_exporter": "python",
   "pygments_lexer": "ipython3",
   "version": "3.7.4"
  }
 },
 "nbformat": 4,
 "nbformat_minor": 2
}
