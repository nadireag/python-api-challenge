{
 "cells": [
  {
   "cell_type": "markdown",
   "metadata": {},
   "source": [
    "# WeatherPy"
   ]
  },
  {
   "cell_type": "code",
   "execution_count": 190,
   "metadata": {},
   "outputs": [],
   "source": [
    "# Dependencies and Setup\n",
    "import matplotlib.pyplot as plt\n",
    "import pandas as pd\n",
    "import numpy as np\n",
    "import requests\n",
    "import time\n",
    "from pprint import pprint\n",
    "import datetime\n",
    "import matplotlib.dates as mdate\n",
    "\n",
    "# Import API key\n",
    "from api_keys import api_key\n",
    "\n",
    "# Incorporated citipy to determine city based on latitude and longitude\n",
    "from citipy import citipy\n",
    "\n",
    "# Output File (CSV)\n",
    "output_data_file = \"output_data/cities.csv\"\n",
    "\n",
    "# Range of latitudes and longitudes\n",
    "lat_range = (-90, 90)\n",
    "lng_range = (-180, 180)"
   ]
  },
  {
   "cell_type": "markdown",
   "metadata": {},
   "source": [
    "## Generate cities list"
   ]
  },
  {
   "cell_type": "code",
   "execution_count": 191,
   "metadata": {},
   "outputs": [
    {
     "data": {
      "text/plain": [
       "36"
      ]
     },
     "execution_count": 191,
     "metadata": {},
     "output_type": "execute_result"
    }
   ],
   "source": [
    "# List for holding lat_lngs and cities\n",
    "lat_lngs = []\n",
    "cities = []\n",
    "\n",
    "# Create a set of random lat and lng combinations\n",
    "lats = np.random.uniform(low=-90.000, high=90.000, size=40)\n",
    "lngs = np.random.uniform(low=-180.000, high=180.000, size=40)\n",
    "lat_lngs = zip(lats, lngs)\n",
    "\n",
    "# Identify nearest city for each lat, lng combination\n",
    "for lat_lng in lat_lngs:\n",
    "    city = citipy.nearest_city(lat_lng[0], lat_lng[1]).city_name\n",
    "    \n",
    "    # If the city is unique, then add it to a our cities list\n",
    "    if city not in cities:\n",
    "        cities.append(city)\n",
    "\n",
    "# Print the city count to confirm sufficient count\n",
    "len(cities)"
   ]
  },
  {
   "cell_type": "markdown",
   "metadata": {},
   "source": [
    "### Perform API calls\n",
    "* Perform a weather check on each city using a series of successive API calls.\n",
    "* Include a print log of each city as it'sbeing processed (with the city number and city name)."
   ]
  },
  {
   "cell_type": "code",
   "execution_count": 192,
   "metadata": {},
   "outputs": [
    {
     "name": "stdout",
     "output_type": "stream",
     "text": [
      "Started\n",
      "Processing Record 1 of Set 1 | atuona\n",
      "Processing Record 2 of Set 1 | mount gambier\n",
      "Processing Record 3 of Set 1 | mataura\n",
      "Processing Record 4 of Set 1 | medicine hat\n",
      "Processing Record 5 of Set 1 | nishihara\n",
      "Processing Record 6 of Set 1 | rikitea\n",
      "Processing Record 7 of Set 1 | lourdes\n",
      "Processing Record 8 of Set 1 | coquimbo\n",
      "Processing Record 9 of Set 1 | marcona\n",
      "City not found. Skipping...\n",
      "Processing Record 10 of Set 1 | dingle\n",
      "Processing Record 11 of Set 1 | teya\n",
      "Processing Record 12 of Set 1 | ribeira grande\n",
      "Processing Record 13 of Set 1 | qaanaaq\n",
      "Processing Record 14 of Set 1 | east london\n",
      "Processing Record 15 of Set 1 | punta arenas\n",
      "Processing Record 16 of Set 1 | taolanaro\n",
      "City not found. Skipping...\n",
      "Processing Record 17 of Set 1 | guerrero negro\n",
      "Processing Record 18 of Set 1 | arraial do cabo\n",
      "Processing Record 19 of Set 1 | lebu\n",
      "Processing Record 20 of Set 1 | kendari\n",
      "Processing Record 21 of Set 1 | svetlogorsk\n",
      "Processing Record 22 of Set 1 | iqaluit\n",
      "Processing Record 23 of Set 1 | kolondieba\n",
      "Processing Record 24 of Set 1 | barrow\n",
      "Processing Record 25 of Set 1 | dikson\n",
      "Processing Record 26 of Set 1 | ponta do sol\n",
      "Processing Record 27 of Set 1 | waddan\n",
      "Processing Record 28 of Set 1 | jamestown\n",
      "Processing Record 29 of Set 1 | husavik\n",
      "Processing Record 30 of Set 1 | alberton\n",
      "Processing Record 31 of Set 1 | tarko-sale\n",
      "Processing Record 32 of Set 1 | nioro\n",
      "Processing Record 33 of Set 1 | comodoro rivadavia\n",
      "Processing Record 34 of Set 1 | albany\n",
      "Processing Record 35 of Set 1 | kapaa\n",
      "Processing Record 36 of Set 1 | chuy\n",
      "Completed\n"
     ]
    }
   ],
   "source": [
    "# Create a base url\n",
    "base_url = \"http://api.openweathermap.org/data/2.5/weather?units=imperial&appid=\" + api_key\n",
    "\n",
    "# Counters\n",
    "city_counter = 1\n",
    "set_counter = 1\n",
    "\n",
    "# Create the lists to hold relative data\n",
    "cities_list= []\n",
    "cloudiness = []\n",
    "country = []\n",
    "date = []\n",
    "humidity = []\n",
    "lat = []\n",
    "lng = []\n",
    "max_temp = []\n",
    "wind_speed = []\n",
    "\n",
    "print(\"Started\")\n",
    "\n",
    "# Create a query url for each city in the cities list to get json response\n",
    "for i, city in enumerate(cities):\n",
    "    \n",
    "    # Group cities as sets of 50s\n",
    "    if (i % 50 == 0 and i >= 50):\n",
    "        set_counter += 1\n",
    "        city_counter = 0\n",
    "         \n",
    "    # Create API url for each city\n",
    "    query_url = base_url +\"&q=\" + city\n",
    "    \n",
    "    # Get json respose for each city\n",
    "    response = requests.get(query_url).json()\n",
    "    \n",
    "    # Print the results \n",
    "    print(f\"Processing Record {city_counter} of Set {set_counter} | {city}\")\n",
    "    \n",
    "    # Increase city counter\n",
    "    city_counter += 1\n",
    "    \n",
    "   # Add the values to the lists\n",
    "    try:       \n",
    "        cloudiness.append(response[\"clouds\"][\"all\"])\n",
    "        country.append(response[\"sys\"][\"country\"])\n",
    "        date.append(response[\"dt\"])\n",
    "        humidity.append(response[\"main\"][\"humidity\"])\n",
    "        lat.append(response[\"coord\"][\"lat\"])\n",
    "        lng.append(response[\"coord\"][\"lon\"])\n",
    "        max_temp.append(response[\"main\"][\"temp_max\"])\n",
    "        wind_speed.append(response[\"wind\"][\"speed\"])\n",
    "        cities_list.append(response[\"name\"])\n",
    "    except:\n",
    "        print(\"City not found. Skipping...\")\n",
    "        pass\n",
    "        \n",
    "print(\"Completed\")"
   ]
  },
  {
   "cell_type": "markdown",
   "metadata": {},
   "source": [
    "### Convert Raw Data to DataFrame\n",
    "* Export the city data into a .csv.\n",
    "* Display the DataFrame"
   ]
  },
  {
   "cell_type": "code",
   "execution_count": 193,
   "metadata": {},
   "outputs": [
    {
     "data": {
      "text/plain": [
       "City          34\n",
       "Cloudiness    34\n",
       "Country       34\n",
       "Date          34\n",
       "Humidity      34\n",
       "Lat           34\n",
       "Lng           34\n",
       "Max Temp      34\n",
       "Wind Speed    34\n",
       "dtype: int64"
      ]
     },
     "execution_count": 193,
     "metadata": {},
     "output_type": "execute_result"
    }
   ],
   "source": [
    "# Create the dictionary to keep data \n",
    "weather_data = {\n",
    "     \"City\": cities_list,\n",
    "     \"Cloudiness\": cloudiness,\n",
    "     \"Country\": country,\n",
    "     \"Date\": date,\n",
    "     \"Humidity\": humidity,\n",
    "     \"Lat\": lat,\n",
    "     \"Lng\": lng,\n",
    "     \"Max Temp\": max_temp,\n",
    "     \"Wind Speed\": wind_speed    \n",
    " }\n",
    "\n",
    "# Create the data frame and count variables for each columns\n",
    "weather_df = pd.DataFrame(weather_data)\n",
    "weather_df.count()"
   ]
  },
  {
   "cell_type": "code",
   "execution_count": 194,
   "metadata": {},
   "outputs": [
    {
     "data": {
      "text/html": [
       "<div>\n",
       "<style scoped>\n",
       "    .dataframe tbody tr th:only-of-type {\n",
       "        vertical-align: middle;\n",
       "    }\n",
       "\n",
       "    .dataframe tbody tr th {\n",
       "        vertical-align: top;\n",
       "    }\n",
       "\n",
       "    .dataframe thead th {\n",
       "        text-align: right;\n",
       "    }\n",
       "</style>\n",
       "<table border=\"1\" class=\"dataframe\">\n",
       "  <thead>\n",
       "    <tr style=\"text-align: right;\">\n",
       "      <th></th>\n",
       "      <th>City</th>\n",
       "      <th>Cloudiness</th>\n",
       "      <th>Country</th>\n",
       "      <th>Date</th>\n",
       "      <th>Humidity</th>\n",
       "      <th>Lat</th>\n",
       "      <th>Lng</th>\n",
       "      <th>Max Temp</th>\n",
       "      <th>Wind Speed</th>\n",
       "    </tr>\n",
       "  </thead>\n",
       "  <tbody>\n",
       "    <tr>\n",
       "      <td>0</td>\n",
       "      <td>Atuona</td>\n",
       "      <td>41</td>\n",
       "      <td>PF</td>\n",
       "      <td>1569786354</td>\n",
       "      <td>79</td>\n",
       "      <td>-9.80</td>\n",
       "      <td>-139.03</td>\n",
       "      <td>79.56</td>\n",
       "      <td>18.23</td>\n",
       "    </tr>\n",
       "    <tr>\n",
       "      <td>1</td>\n",
       "      <td>Mount Gambier</td>\n",
       "      <td>90</td>\n",
       "      <td>AU</td>\n",
       "      <td>1569786359</td>\n",
       "      <td>81</td>\n",
       "      <td>-37.83</td>\n",
       "      <td>140.78</td>\n",
       "      <td>46.40</td>\n",
       "      <td>5.82</td>\n",
       "    </tr>\n",
       "    <tr>\n",
       "      <td>2</td>\n",
       "      <td>Mataura</td>\n",
       "      <td>100</td>\n",
       "      <td>NZ</td>\n",
       "      <td>1569786589</td>\n",
       "      <td>90</td>\n",
       "      <td>-46.19</td>\n",
       "      <td>168.86</td>\n",
       "      <td>45.00</td>\n",
       "      <td>5.01</td>\n",
       "    </tr>\n",
       "    <tr>\n",
       "      <td>3</td>\n",
       "      <td>Medicine Hat</td>\n",
       "      <td>90</td>\n",
       "      <td>CA</td>\n",
       "      <td>1569786304</td>\n",
       "      <td>99</td>\n",
       "      <td>50.04</td>\n",
       "      <td>-110.68</td>\n",
       "      <td>33.01</td>\n",
       "      <td>19.46</td>\n",
       "    </tr>\n",
       "    <tr>\n",
       "      <td>4</td>\n",
       "      <td>Nishihara</td>\n",
       "      <td>75</td>\n",
       "      <td>JP</td>\n",
       "      <td>1569786589</td>\n",
       "      <td>83</td>\n",
       "      <td>35.74</td>\n",
       "      <td>139.53</td>\n",
       "      <td>78.01</td>\n",
       "      <td>10.29</td>\n",
       "    </tr>\n",
       "  </tbody>\n",
       "</table>\n",
       "</div>"
      ],
      "text/plain": [
       "            City  Cloudiness Country        Date  Humidity    Lat     Lng  \\\n",
       "0         Atuona          41      PF  1569786354        79  -9.80 -139.03   \n",
       "1  Mount Gambier          90      AU  1569786359        81 -37.83  140.78   \n",
       "2        Mataura         100      NZ  1569786589        90 -46.19  168.86   \n",
       "3   Medicine Hat          90      CA  1569786304        99  50.04 -110.68   \n",
       "4      Nishihara          75      JP  1569786589        83  35.74  139.53   \n",
       "\n",
       "   Max Temp  Wind Speed  \n",
       "0     79.56       18.23  \n",
       "1     46.40        5.82  \n",
       "2     45.00        5.01  \n",
       "3     33.01       19.46  \n",
       "4     78.01       10.29  "
      ]
     },
     "execution_count": 194,
     "metadata": {},
     "output_type": "execute_result"
    }
   ],
   "source": [
    "# Display the data frame\n",
    "weather_df.head()"
   ]
  },
  {
   "cell_type": "code",
   "execution_count": 195,
   "metadata": {},
   "outputs": [
    {
     "data": {
      "text/html": [
       "<div>\n",
       "<style scoped>\n",
       "    .dataframe tbody tr th:only-of-type {\n",
       "        vertical-align: middle;\n",
       "    }\n",
       "\n",
       "    .dataframe tbody tr th {\n",
       "        vertical-align: top;\n",
       "    }\n",
       "\n",
       "    .dataframe thead th {\n",
       "        text-align: right;\n",
       "    }\n",
       "</style>\n",
       "<table border=\"1\" class=\"dataframe\">\n",
       "  <thead>\n",
       "    <tr style=\"text-align: right;\">\n",
       "      <th></th>\n",
       "      <th>City</th>\n",
       "      <th>Cloudiness</th>\n",
       "      <th>Country</th>\n",
       "      <th>Date</th>\n",
       "      <th>Humidity</th>\n",
       "      <th>Lat</th>\n",
       "      <th>Lng</th>\n",
       "      <th>Max Temp</th>\n",
       "      <th>Wind Speed</th>\n",
       "    </tr>\n",
       "  </thead>\n",
       "  <tbody>\n",
       "    <tr>\n",
       "      <td>0</td>\n",
       "      <td>Atuona</td>\n",
       "      <td>41</td>\n",
       "      <td>PF</td>\n",
       "      <td>2019-09-29</td>\n",
       "      <td>79</td>\n",
       "      <td>-9.80</td>\n",
       "      <td>-139.03</td>\n",
       "      <td>79.56</td>\n",
       "      <td>18.23</td>\n",
       "    </tr>\n",
       "    <tr>\n",
       "      <td>1</td>\n",
       "      <td>Mount Gambier</td>\n",
       "      <td>90</td>\n",
       "      <td>AU</td>\n",
       "      <td>2019-09-29</td>\n",
       "      <td>81</td>\n",
       "      <td>-37.83</td>\n",
       "      <td>140.78</td>\n",
       "      <td>46.40</td>\n",
       "      <td>5.82</td>\n",
       "    </tr>\n",
       "    <tr>\n",
       "      <td>2</td>\n",
       "      <td>Mataura</td>\n",
       "      <td>100</td>\n",
       "      <td>NZ</td>\n",
       "      <td>2019-09-29</td>\n",
       "      <td>90</td>\n",
       "      <td>-46.19</td>\n",
       "      <td>168.86</td>\n",
       "      <td>45.00</td>\n",
       "      <td>5.01</td>\n",
       "    </tr>\n",
       "    <tr>\n",
       "      <td>3</td>\n",
       "      <td>Medicine Hat</td>\n",
       "      <td>90</td>\n",
       "      <td>CA</td>\n",
       "      <td>2019-09-29</td>\n",
       "      <td>99</td>\n",
       "      <td>50.04</td>\n",
       "      <td>-110.68</td>\n",
       "      <td>33.01</td>\n",
       "      <td>19.46</td>\n",
       "    </tr>\n",
       "    <tr>\n",
       "      <td>4</td>\n",
       "      <td>Nishihara</td>\n",
       "      <td>75</td>\n",
       "      <td>JP</td>\n",
       "      <td>2019-09-29</td>\n",
       "      <td>83</td>\n",
       "      <td>35.74</td>\n",
       "      <td>139.53</td>\n",
       "      <td>78.01</td>\n",
       "      <td>10.29</td>\n",
       "    </tr>\n",
       "  </tbody>\n",
       "</table>\n",
       "</div>"
      ],
      "text/plain": [
       "            City  Cloudiness Country        Date  Humidity    Lat     Lng  \\\n",
       "0         Atuona          41      PF  2019-09-29        79  -9.80 -139.03   \n",
       "1  Mount Gambier          90      AU  2019-09-29        81 -37.83  140.78   \n",
       "2        Mataura         100      NZ  2019-09-29        90 -46.19  168.86   \n",
       "3   Medicine Hat          90      CA  2019-09-29        99  50.04 -110.68   \n",
       "4      Nishihara          75      JP  2019-09-29        83  35.74  139.53   \n",
       "\n",
       "   Max Temp  Wind Speed  \n",
       "0     79.56       18.23  \n",
       "1     46.40        5.82  \n",
       "2     45.00        5.01  \n",
       "3     33.01       19.46  \n",
       "4     78.01       10.29  "
      ]
     },
     "execution_count": 195,
     "metadata": {},
     "output_type": "execute_result"
    }
   ],
   "source": [
    "# Convert date values to regular date values \n",
    "weather_df[\"Date\"] = pd.to_datetime(weather_df[\"Date\"], unit = \"s\").dt.date\n",
    "weather_df.head()"
   ]
  },
  {
   "cell_type": "code",
   "execution_count": null,
   "metadata": {},
   "outputs": [],
   "source": []
  },
  {
   "cell_type": "markdown",
   "metadata": {},
   "source": [
    "### Plotting the Data\n",
    "* Use proper labeling of the plots using plot titles (including date of analysis) and axes labels.\n",
    "* Save the plotted figures as .pngs."
   ]
  },
  {
   "cell_type": "markdown",
   "metadata": {},
   "source": [
    "#### Latitude vs. Temperature Plot"
   ]
  },
  {
   "cell_type": "code",
   "execution_count": 213,
   "metadata": {},
   "outputs": [
    {
     "data": {
      "image/png": "[encoded data removed]",
      "text/plain": [
       "<Figure size 432x288 with 1 Axes>"
      ]
     },
     "metadata": {
      "needs_background": "light"
     },
     "output_type": "display_data"
    }
   ],
   "source": [
    "# Create a scatter plot for latitude and temprature\n",
    "plt.scatter(weather_df[\"Lat\"], weather_df[\"Max Temp\"], marker = \"o\", facecolor = \"navy\", edgecolor=\"black\")\n",
    "#plt.title('City Latitude vs. Max Temperature ({})'.format(date))\n",
    "plt.xlabel(\"Latitude\")\n",
    "plt.ylabel(\"Max Temprature (F)\")\n",
    "plt.grid()\n",
    "plt.savefig(\"Output/Images/temperature.png\")\n",
    "plt.show()"
   ]
  },
  {
   "cell_type": "markdown",
   "metadata": {},
   "source": [
    "#### Latitude vs. Humidity Plot"
   ]
  },
  {
   "cell_type": "code",
   "execution_count": 214,
   "metadata": {},
   "outputs": [
    {
     "data": {
      "image/png": "[encoded data removed]",
      "text/plain": [
       "<Figure size 432x288 with 1 Axes>"
      ]
     },
     "metadata": {
      "needs_background": "light"
     },
     "output_type": "display_data"
    }
   ],
   "source": [
    "# Create a scatter plot for latitude and humidity\n",
    "plt.scatter(weather_df[\"Lat\"], weather_df[\"Humidity\"], marker = \"o\", facecolor = \"navy\", edgecolor=\"black\")\n",
    "plt.xlabel(\"Latitude\")\n",
    "plt.ylabel(\"Humidity (%)\")\n",
    "plt.title(\"City Latitude vs Humidity (%)\")\n",
    "plt.grid()\n",
    "plt.savefig(\"Output/Images/humidity.png\")\n",
    "plt.show()"
   ]
  },
  {
   "cell_type": "markdown",
   "metadata": {},
   "source": [
    "#### Latitude vs. Cloudiness Plot"
   ]
  },
  {
   "cell_type": "code",
   "execution_count": 215,
   "metadata": {},
   "outputs": [
    {
     "data": {
      "image/png": "[encoded data removed]",
      "text/plain": [
       "<Figure size 432x288 with 1 Axes>"
      ]
     },
     "metadata": {
      "needs_background": "light"
     },
     "output_type": "display_data"
    }
   ],
   "source": [
    "plt.scatter(weather_df[\"Lat\"], weather_df[\"Cloudiness\"], marker = \"o\", facecolor = \"navy\", edgecolor=\"black\")\n",
    "plt.xlabel(\"Latitude\")\n",
    "plt.ylabel(\"Cloudiness (%)\")\n",
    "plt.title(\"City Latitude vs Cloudiness\")\n",
    "plt.grid()\n",
    "plt.savefig(\"Output/Images/cloudiness.png\")\n",
    "plt.show()"
   ]
  },
  {
   "cell_type": "markdown",
   "metadata": {},
   "source": [
    "#### Latitude vs. Wind Speed Plot"
   ]
  },
  {
   "cell_type": "code",
   "execution_count": 216,
   "metadata": {},
   "outputs": [
    {
     "data": {
      "image/png": "[encoded data removed]",
      "text/plain": [
       "<Figure size 432x288 with 1 Axes>"
      ]
     },
     "metadata": {
      "needs_background": "light"
     },
     "output_type": "display_data"
    }
   ],
   "source": [
    "plt.scatter(weather_df[\"Lat\"], weather_df[\"Wind Speed\"], marker = \"o\", facecolor = \"navy\", edgecolor=\"black\")\n",
    "plt.xlabel(\"Latitude\")\n",
    "plt.ylabel(\"Speed (mph)\")\n",
    "plt.title(\"City Latitude vs Wind Speed\")\n",
    "plt.grid()\n",
    "plt.savefig(\"Output/Images/wind_speed.png\")\n",
    "plt.show()"
   ]
  },
  {
   "cell_type": "code",
   "execution_count": 217,
   "metadata": {},
   "outputs": [],
   "source": [
    "# save the dataframe as csv file\n",
    "weather_df.to_csv(\"Output/weather.csv\", index=False, header=True)\n"
   ]
  },
  {
   "cell_type": "markdown",
   "metadata": {},
   "source": [
    "### WeatherPy Analysis"
   ]
  },
  {
   "cell_type": "code",
   "execution_count": null,
   "metadata": {},
   "outputs": [],
   "source": []
  }
 ],
 "metadata": {
  "kernelspec": {
   "display_name": "Python [conda env:PythonData]",
   "language": "python",
   "name": "conda-env-PythonData-py"
  },
  "language_info": {
   "codemirror_mode": {
    "name": "ipython",
    "version": 3
   },
   "file_extension": ".py",
   "mimetype": "text/x-python",
   "name": "python",
   "nbconvert_exporter": "python",
   "pygments_lexer": "ipython3",
   "version": "3.7.4"
  }
 },
 "nbformat": 4,
 "nbformat_minor": 2
}
